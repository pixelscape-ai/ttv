{
 "cells": [
  {
   "cell_type": "markdown",
   "metadata": {},
   "source": [
    "# Setup Dependecies and checkout project"
   ]
  },
  {
   "cell_type": "code",
   "execution_count": null,
   "metadata": {
    "colab": {
     "base_uri": "https://localhost:8080/"
    },
    "executionInfo": {
     "elapsed": 6595,
     "status": "ok",
     "timestamp": 1704569912641,
     "user": {
      "displayName": "Pixelscape",
      "userId": "15753819576364877620"
     },
     "user_tz": -330
    },
    "id": "kiXa-uQ2_uLo",
    "outputId": "1cc07345-606b-461c-9f5a-957933877365"
   },
   "outputs": [],
   "source": [
    "!python --version\n",
    "!apt-get update\n",
    "!apt install ffmpeg &> /dev/null\n",
    "\n",
    "!git clone https://github.com/gauravk95/SadTalker-Video.git\n",
    "%cd SadTalker-Video"
   ]
  },
  {
   "cell_type": "markdown",
   "metadata": {},
   "source": [
    "# Download required packages & checkpoints"
   ]
  },
  {
   "cell_type": "code",
   "execution_count": null,
   "metadata": {
    "colab": {
     "base_uri": "https://localhost:8080/",
     "height": 1000
    },
    "executionInfo": {
     "elapsed": 47306,
     "status": "ok",
     "timestamp": 1704570212704,
     "user": {
      "displayName": "Pixelscape",
      "userId": "15753819576364877620"
     },
     "user_tz": -330
    },
    "id": "SjgsGu4kANqe",
    "outputId": "d8072be0-4704-4a69-cddb-3d69a3e6f915"
   },
   "outputs": [],
   "source": [
    "!pip install -r requirements.txt"
   ]
  },
  {
   "cell_type": "code",
   "execution_count": null,
   "metadata": {
    "colab": {
     "base_uri": "https://localhost:8080/"
    },
    "executionInfo": {
     "elapsed": 40661,
     "status": "ok",
     "timestamp": 1704570343688,
     "user": {
      "displayName": "Pixelscape",
      "userId": "15753819576364877620"
     },
     "user_tz": -330
    },
    "id": "cANkCoKkAXQb",
    "outputId": "b3796ded-b592-4fa4-a1fa-0f8d3278c8c8"
   },
   "outputs": [],
   "source": [
    "!gdown https://drive.google.com/u/0/uc?id=1lW4mf5YNtS4MAD7ZkAauDDWp2N3_Qzs7&export=download"
   ]
  },
  {
   "cell_type": "code",
   "execution_count": null,
   "metadata": {
    "colab": {
     "base_uri": "https://localhost:8080/"
    },
    "executionInfo": {
     "elapsed": 57894,
     "status": "ok",
     "timestamp": 1704570435002,
     "user": {
      "displayName": "Pixelscape",
      "userId": "15753819576364877620"
     },
     "user_tz": -330
    },
    "id": "bkcbn4L9lzt2",
    "outputId": "9b0cfd40-5621-4acd-f123-5e7a51378a31"
   },
   "outputs": [],
   "source": [
    "!tar -xf checkpoints.tar.gz"
   ]
  },
  {
   "cell_type": "markdown",
   "metadata": {},
   "source": [
    "# Inference the model"
   ]
  },
  {
   "cell_type": "code",
   "execution_count": null,
   "metadata": {
    "colab": {
     "base_uri": "https://localhost:8080/"
    },
    "executionInfo": {
     "elapsed": 97496,
     "status": "ok",
     "timestamp": 1704574153330,
     "user": {
      "displayName": "Pixelscape",
      "userId": "15753819576364877620"
     },
     "user_tz": -330
    },
    "id": "NgH_C9zmmFoJ",
    "outputId": "b0610df6-d005-425f-fcdd-e221c4692de3"
   },
   "outputs": [],
   "source": [
    "!python inference.py --driven_audio \"/content/SadTalker-Video/examples/driven_audio/chinese_poem1.wav\" \\\n",
    "                     --source_video \"/content/SadTalker-Video/examples/driven_video/1.mp4\" \\\n",
    "                    --enhancer \"none\""
   ]
  }
 ],
 "metadata": {
  "accelerator": "GPU",
  "colab": {
   "gpuType": "T4",
   "provenance": []
  },
  "kernelspec": {
   "display_name": "Python 3 (ipykernel)",
   "language": "python",
   "name": "python3"
  },
  "language_info": {
   "codemirror_mode": {
    "name": "ipython",
    "version": 3
   },
   "file_extension": ".py",
   "mimetype": "text/x-python",
   "name": "python",
   "nbconvert_exporter": "python",
   "pygments_lexer": "ipython3",
   "version": "3.10.12"
  }
 },
 "nbformat": 4,
 "nbformat_minor": 4
}
